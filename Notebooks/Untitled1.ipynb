{
 "cells": [
  {
   "cell_type": "code",
   "execution_count": 1,
   "metadata": {},
   "outputs": [],
   "source": [
    "import numpy as np"
   ]
  },
  {
   "cell_type": "code",
   "execution_count": null,
   "metadata": {},
   "outputs": [],
   "source": []
  },
  {
   "cell_type": "code",
   "execution_count": 2,
   "metadata": {},
   "outputs": [],
   "source": [
    "kstr = \"ae10 0304 1400 0900 0800 9486 4152 d004\\\n",
    "471c 6700 0000 6800 0000 0800 1c00 666c\\\n",
    "6167 2e74 7874 5554 0900 0328 7818 60e4\\\n",
    "7818 6075 780b 0001 04e8 0300 0004 e803\\\n",
    "0000 2ede 6280 4c48 774f 4b8f 9c57 959b\\\n",
    "225f a5fa 6218 2f39 3892 a16a 6b0b 0dc3\\\n",
    "713b d4d7 33ac b611 d9ff a7b1 b9bd 54aa\\\n",
    "f90b 2d6d 1c0c 890b 3e19 6cda 7747 337b\\\n",
    "a057 415b b035 9eb3 a688 0b13 b6ac 7ee6\\\n",
    "0427 f500 5c52 9a7f e455 e415 f449 32e2\\\n",
    "fb13 fde6 8e52 27f5 8b50 4b07 08d0 0447\\\n",
    "1c67 0000 0068 0000 0050 4b01 021e 0314\\\n",
    "0009 0008 0094 8641 52d0 0447 1c67 0000\\\n",
    "0068 0000 0008 0018 0000 0000 0001 0000\\\n",
    "00a4 8100 0000 0066 6c61 672e 7478 7455\\\n",
    "5405 0003 2878 1860 7578 0b00 0104 e803\\\n",
    "0000 04e8 0300 0050 4b05 0600 0000 0001\\\n",
    "0001 004e 0000 00b9 0000 0000 00       \""
   ]
  },
  {
   "cell_type": "code",
   "execution_count": 5,
   "metadata": {},
   "outputs": [],
   "source": [
    "fstr = kstr.replace(' ','')"
   ]
  },
  {
   "cell_type": "code",
   "execution_count": 16,
   "metadata": {},
   "outputs": [
    {
     "name": "stdout",
     "output_type": "stream",
     "text": [
      "ae10030414000900080094864152d004471c670000006800000008001c00666c61672e747874555409000328781860e478186075780b000104e803000004e80300002ede62804c48774f4b8f9c57959b225fa5fa62182f393892a16a6b0b0dc3713bd4d733acb611d9ffa7b1b9bd54aaf90b2d6d1c0c890b3e196cda7747337ba057415bb0359eb3a6880b13b6ac7ee60427f5005c529a7fe455e415f44932e2fb13fde68e5227f58b504b0708d004471c6700000068000000504b01021e0314000900080094864152d004471c6700000068000000080018000000000001000000a48100000000666c61672e74787455540500032878186075780b000104e803000004e8030000504b050600000000010001004e000000b90000000000\n"
     ]
    }
   ],
   "source": [
    "print(fstr)"
   ]
  },
  {
   "cell_type": "code",
   "execution_count": 17,
   "metadata": {},
   "outputs": [],
   "source": [
    "jump = 22"
   ]
  },
  {
   "cell_type": "code",
   "execution_count": 18,
   "metadata": {},
   "outputs": [
    {
     "data": {
      "text/plain": [
       "['ae10030414000900080094',\n",
       " '864152d004471c67000000',\n",
       " '6800000008001c00666c61',\n",
       " '672e747874555409000328',\n",
       " '781860e478186075780b00',\n",
       " '0104e803000004e8030000',\n",
       " '2ede62804c48774f4b8f9c',\n",
       " '57959b225fa5fa62182f39',\n",
       " '3892a16a6b0b0dc3713bd4',\n",
       " 'd733acb611d9ffa7b1b9bd',\n",
       " '54aaf90b2d6d1c0c890b3e',\n",
       " '196cda7747337ba057415b',\n",
       " 'b0359eb3a6880b13b6ac7e',\n",
       " 'e60427f5005c529a7fe455',\n",
       " 'e415f44932e2fb13fde68e',\n",
       " '5227f58b504b0708d00447',\n",
       " '1c6700000068000000504b',\n",
       " '01021e0314000900080094',\n",
       " '864152d004471c67000000',\n",
       " '6800000008001800000000',\n",
       " '0001000000a48100000000',\n",
       " '666c61672e747874555405',\n",
       " '00032878186075780b0001',\n",
       " '04e803000004e803000050',\n",
       " '4b05060000000001000100',\n",
       " '4e000000b90000000000']"
      ]
     },
     "execution_count": 18,
     "metadata": {},
     "output_type": "execute_result"
    }
   ],
   "source": [
    "[fstr[i:i+jump] for i in range(0,len(fstr),jump)]"
   ]
  },
  {
   "cell_type": "code",
   "execution_count": 19,
   "metadata": {},
   "outputs": [],
   "source": [
    "sstr = \"666c61672e747874555409000328781860e478186075780b000104e803000004e80300002ede62804c48774f4b8f9c57959b225fa5fa62182f393892a16a6b0b0dc3713bd4d733acb611d9ffa7b1b9bd54aaf90b2d6d1c0c890b3e196cda7747337ba057415bb0359eb3a6880b13b6ac7ee60427f5005c529a7fe455e415f44932e2fb13fde68e5227f58b504b0708d004471c6700000068000000504b01021e0314000900080094864152d004471c6700000068000000080018000000000001000000a48100000000666c61672e747874555405\""
   ]
  },
  {
   "cell_type": "code",
   "execution_count": 23,
   "metadata": {},
   "outputs": [
    {
     "name": "stdout",
     "output_type": "stream",
     "text": [
      "666c61672e747874555409000328781860e478186075780b000104e803000004e80300002ede62804c48774f4b8f9c57959b225fa5fa62182f393892a16a6b0b0dc3713bd4d733acb611d9ffa7b1b9bd54aaf90b2d6d1c0c890b3e196cda7747337ba057415bb0359eb3a6880b13b6ac7ee60427f5005c529a7fe455e415f44932e2fb13fde68e5227f58b504b0708d004471c6700000068000000504b01021e0314000900080094864152d004471c6700000068000000080018000000000001000000a48100000000666c61672e747874555405\n"
     ]
    }
   ],
   "source": [
    "print(sstr)"
   ]
  },
  {
   "cell_type": "code",
   "execution_count": 25,
   "metadata": {},
   "outputs": [],
   "source": [
    "jump=6"
   ]
  },
  {
   "cell_type": "code",
   "execution_count": 26,
   "metadata": {},
   "outputs": [
    {
     "data": {
      "text/plain": [
       "['666c61',\n",
       " '672e74',\n",
       " '787455',\n",
       " '540900',\n",
       " '032878',\n",
       " '1860e4',\n",
       " '781860',\n",
       " '75780b',\n",
       " '000104',\n",
       " 'e80300',\n",
       " '0004e8',\n",
       " '030000',\n",
       " '2ede62',\n",
       " '804c48',\n",
       " '774f4b',\n",
       " '8f9c57',\n",
       " '959b22',\n",
       " '5fa5fa',\n",
       " '62182f',\n",
       " '393892',\n",
       " 'a16a6b',\n",
       " '0b0dc3',\n",
       " '713bd4',\n",
       " 'd733ac',\n",
       " 'b611d9',\n",
       " 'ffa7b1',\n",
       " 'b9bd54',\n",
       " 'aaf90b',\n",
       " '2d6d1c',\n",
       " '0c890b',\n",
       " '3e196c',\n",
       " 'da7747',\n",
       " '337ba0',\n",
       " '57415b',\n",
       " 'b0359e',\n",
       " 'b3a688',\n",
       " '0b13b6',\n",
       " 'ac7ee6',\n",
       " '0427f5',\n",
       " '005c52',\n",
       " '9a7fe4',\n",
       " '55e415',\n",
       " 'f44932',\n",
       " 'e2fb13',\n",
       " 'fde68e',\n",
       " '5227f5',\n",
       " '8b504b',\n",
       " '0708d0',\n",
       " '04471c',\n",
       " '670000',\n",
       " '006800',\n",
       " '000050',\n",
       " '4b0102',\n",
       " '1e0314',\n",
       " '000900',\n",
       " '080094',\n",
       " '864152',\n",
       " 'd00447',\n",
       " '1c6700',\n",
       " '000068',\n",
       " '000000',\n",
       " '080018',\n",
       " '000000',\n",
       " '000001',\n",
       " '000000',\n",
       " 'a48100',\n",
       " '000000',\n",
       " '666c61',\n",
       " '672e74',\n",
       " '787455',\n",
       " '5405']"
      ]
     },
     "execution_count": 26,
     "metadata": {},
     "output_type": "execute_result"
    }
   ],
   "source": [
    "[sstr[i:i+jump] for i in range(0,len(sstr),jump)]"
   ]
  },
  {
   "cell_type": "code",
   "execution_count": 24,
   "metadata": {},
   "outputs": [
    {
     "data": {
      "text/plain": [
       "402"
      ]
     },
     "execution_count": 24,
     "metadata": {},
     "output_type": "execute_result"
    }
   ],
   "source": [
    "len(\"2e747874555409000328781860e478186075780b000104e803000004e80300002ede62804c48774f4b8f9c57959b225fa5fa62182f393892a16a6b0b0dc3713bd4d733acb611d9ffa7b1b9bd54aaf90b2d6d1c0c890b3e196cda7747337ba057415bb0359eb3a6880b13b6ac7ee60427f5005c529a7fe455e415f44932e2fb13fde68e5227f58b504b0708d004471c6700000068000000504b01021e0314000900080094864152d004471c6700000068000000080018000000000001000000a48100000000666c6167\")"
   ]
  },
  {
   "cell_type": "code",
   "execution_count": null,
   "metadata": {},
   "outputs": [],
   "source": []
  }
 ],
 "metadata": {
  "kernelspec": {
   "display_name": "Python 3",
   "language": "python",
   "name": "python3"
  },
  "language_info": {
   "codemirror_mode": {
    "name": "ipython",
    "version": 3
   },
   "file_extension": ".py",
   "mimetype": "text/x-python",
   "name": "python",
   "nbconvert_exporter": "python",
   "pygments_lexer": "ipython3",
   "version": "3.6.9"
  }
 },
 "nbformat": 4,
 "nbformat_minor": 4
}
