{
 "cells": [
  {
   "cell_type": "code",
   "execution_count": null,
   "metadata": {},
   "outputs": [],
   "source": []
  },
  {
   "cell_type": "code",
   "execution_count": null,
   "metadata": {},
   "outputs": [],
   "source": []
  },
  {
   "cell_type": "code",
   "execution_count": 7,
   "metadata": {},
   "outputs": [
    {
     "data": {
      "text/plain": [
       "\"+ACA-+ACA-+AF8-+ACA-+ACA-+ACA-+ACA-+ACA-+AF8-+ACA-+ACA-+ACA-+AF8-+ACA-+ACA-+ACA-+ACA-+ACA-+ACA-+ACA-+ACA-+ACA-+ACA-+ACA-+ACA-+ACA-+ACA-+ACA-+ACA-+ACA-+ACA-+ACA-+AF8-+AF8-+AF8-+AF8-+AF8-+ACA-+ACA-+ACA-+ACA-+ACA-+AF8-+ACA-+AF8-+ACA-+ACA-+ACA-+ACA-+ACA-+AF8-+ACA-+ACA-+ACA-+ACA-+ACA-+ACA-+ACA-+ACA-+ACA-+ACA-+ACA-+AF8-+AF8-+AF8-+AF8-+AF8-+AF8-+AF8-+ACA-+ACA-+ACA-+ACA-+ACA-+ACA-+AF8-+AF8-+AF8-+AF8-+AF8-+AF8-+AF8-+ACA-+AF8-+AF8-+AF8-+AF8-+AF8-+AF8-+ACA-+AF8-+ACA-+ACA-+ACA-+ACA-+AF8-+AF8-+AF8-+AF8-+AF8-+AF8-+ACA-+AF8-+AF8-+AF8-+ACA-+ACA-+AAo-+ACA-+AHw-+ACA-+AHw-+ACA-+ACA-+ACA-+AHw-+ACA-+AHw-+ACA-+AHw-+ACA-+AHw-+ACA-+ACA-+ACA-+ACA-+ACA-+ACA-+ACA-+ACA-+ACA-+ACA-+ACA-+ACA-+AF8-+ACA-+ACA-+ACA-+ACA-/+ACA-/+ACA-/+ACA-+AHw-+ACA-+ACA-+ACA-(+AF8-)+ACA-+AHw-+ACA-+ACA-+ACA-+AHw-+ACA-+AHw-+ACA-+ACA-+ACA-+ACA-+ACA-+ACA-+ACA-+ACA-+ACA-/+ACA-/+AF8-+AF8-+ACA-+AFw-+ACA-+AFw-+ACA-+ACA-+ACA-+ACA-/+ACA-/+ACA-+ACA-+AF8-+AF8-+ACA-+AFw-+AF8-+AF8-+AF8-+AF8-+ACA-+ACA-+AHw-+ACA-+AHw-+ACA-+ACA-+AHw-+ACA-+ACA-+AF8-+AF8-+AF8-+AF8-/+ACA-+AF8-+ACA-+AFw-+ACA-+AAo-+ACA-+AHw-+ACA-+AHw-+AF8-+AF8-+ACA-+AHw-+ACA-+AHw-+AF8-+AHw-+ACA-+AHw-+AF8-+ACA-+AF8-+ACA-+AF8-+AF8-+ACA-+ACA-+AF8-+AF8-+AF8-(+AF8-)+ACA-+ACA-/+ACA-/+ACA-/+AHw-+ACA-+AHw-+AF8-+AF8-+ACA-+ACA-+AF8-+AHw-+ACA-+AHw-+AF8-+ACA-+ACA-+AHw-+ACA-+AHw-+AF8-+ACA-+ACA-+ACA-+AF8-+ACA-+ACA-+ACA-/+ACA-/+ACA-+ACA-+ACA-)+ACA-+AFw-+ACA-+AFw-+ACA-+ACA-/+ACA-/+AHw-+ACA-+AHw-+ACA-+ACA-+AHw-+ACA-+AHw-+ACA-+ACA-/+ACA-/+AHw-+ACA-+AHw-+ACA-+AF8-+AHw-+ACA-+AHw-+AF8-+AF8-+ACA-+AHw-+ACA-(+AF8-)+ACA-+AHw-+AAo-+ACA-+AHw-+ACA-'+AF8-+ACA-+AFw-+AHw-+ACA-+AF8-+AF8-+AHw-+ACA-+AF8-+AF8-+AHw-+ACA-'+AF8-+ACA-+AFw-/+ACA-+AF8-+AF8-+AHw-+ACA-+ACA-+ACA-/+ACA-/+ACA-/+ACA-+AHw-+ACA-'+AF8-+ACA-+AFw-+AHw-+ACA-+AHw-+ACA-+AF8-+AF8-+AHw-+ACA-+AHw-+ACA-+AHw-+ACA-+AHw-+ACA-+AHw-+ACA-+AHw-+ACA-/+ACA-/+ACA-+ACA-+ACA-/+ACA-/+ACA-+AFw-+ACA-+AFw-/+ACA-/+ACA-+AHw-+ACA-+AHw-+ACA-+ACA-+AHw-+ACA-+AHw-+ACA-/+ACA-/+ACA-+AHw-+ACA-+AHw-/+ACA-/+ACA-+ACA-+AF8-+AF8-+AHw-+ACA-+AD4-+ACA-+AF8-+ACA-+ADw-+ACA-+AAo-+ACA-+AHw-+ACA-+AHw-+ACA-+AHw-+ACA-+AHw-+ACA-+AHw-+AF8-+AHw-+ACA-+AHw-+AF8-+AHw-+ACA-+AHw-+AF8-)+ACA-+AFw-+AF8-+AF8-+ACA-+AFw-+AF8-+ACA-/+ACA-/+ACA-/+ACA-+ACA-+AHw-+ACA-+AHw-+AF8-)+ACA-+AHw-+ACA-+AHw-+ACA-+AHw-+AF8-+ACA-+AF8-+AHw-+ACA-+AHw-+ACA-+AHw-+AF8-+AHw-+ACA-+AHw-/+ACA-/+ACA-+ACA-+ACA-/+ACA-/+AF8-+ACA-+ACA-+AFw-+ACA-+ACA-/+ACA-+ACA-+AHw-+ACA-+AHw-+AF8-+AF8-+AHw-+ACA-+AHw-/+ACA-/+ACA-+ACA-+AHw-+ACA-+ACA-+ACA-+ADw-+AHw-+ACA-+AHw-+ACA-+ACA-+ACA-+AHw-+ACA-(+AF8-)+ACA-+AHw-+AAo-+ACA-+AHw-+AF8-+AHw-+ACA-+AHw-+AF8-+AHw-+AFw-+AF8-+AF8-+AHw-+AFw-+AF8-+AF8-+AHw-+ACA-.+AF8-+AF8-/+AHw-+AF8-+AF8-+AF8-(+AF8-)+AF8-/+AF8-/+ACA-+ACA-+ACA-+AHw-+AF8-.+AF8-+AF8-/+AHw-+AF8-+AHw-+AFw-+AF8-+AF8-(+AF8-)+AF8-+AHw-+AFw-+AF8-+AF8-,+ACA-/+AF8-/+ACA-+ACA-+ACA-+AHw-+AF8-+AF8-+AF8-+AF8-+AHw-+ACA-+ACA-+AFw-/+ACA-+ACA-+ACA-+AHw-+AF8-+AF8-+AF8-+AF8-+AF8-//+AF8-/+ACA-+ACA-+ACA-+AHw-+AF8-+AHw-+AFw-+AF8-+AFw-+AF8-+AHw-+ACA-+ACA-+ACA-+ACA-+AFw-+AF8-+AF8-+AF8-/+ACA-+AAo-+ACA-+ACA-+ACA-+ACA-+ACA-+ACA-+ACA-+ACA-+ACA-+ACA-+ACA-+ACA-+ACA-+ACA-+ACA-+AHw-+ACA-+AHw-+ACA-+ACA-+ACA-+ACA-+ACA-+ACA-+ACA-+ACA-+ACA-+ACA-+ACA-+ACA-+ACA-+ACA-+ACA-+ACA-+ACA-+ACA-+ACA-+ACA-+ACA-+ACA-+ACA-+ACA-+ACA-+ACA-+ACA-+ACA-+ACA-+ACA-+ACA-+ACA-+ACA-+ACA-+ACA-+AF8-+AF8-/+ACA-+AHw-+ACA-+ACA-+ACA-+ACA-+ACA-+ACA-+ACA-+ACA-+ACA-+ACA-+ACA-+ACA-+ACA-+ACA-+ACA-+ACA-+ACA-+ACA-+ACA-+ACA-+ACA-+ACA-+ACA-+ACA-+ACA-+ACA-+ACA-+ACA-+ACA-+ACA-+ACA-+ACA-+ACA-+ACA-+ACA-+ACA-+ACA-+ACA-+ACA-+ACA-+ACA-+ACA-+ACA-+AC\""
      ]
     },
     "execution_count": 7,
     "metadata": {},
     "output_type": "execute_result"
    }
   ],
   "source": [
    "b\"+ACA-+ACA-+AF8-+ACA-+ACA-+ACA-+ACA-+ACA-+AF8-+ACA-+ACA-+ACA-+AF8-+ACA-+ACA-+ACA-+ACA-+ACA-+ACA-+ACA-+ACA-+ACA-+ACA-+ACA-+ACA-+ACA-+ACA-+ACA-+ACA-+ACA-+ACA-+ACA-+AF8-+AF8-+AF8-+AF8-+AF8-+ACA-+ACA-+ACA-+ACA-+ACA-+AF8-+ACA-+AF8-+ACA-+ACA-+ACA-+ACA-+ACA-+AF8-+ACA-+ACA-+ACA-+ACA-+ACA-+ACA-+ACA-+ACA-+ACA-+ACA-+ACA-+AF8-+AF8-+AF8-+AF8-+AF8-+AF8-+AF8-+ACA-+ACA-+ACA-+ACA-+ACA-+ACA-+AF8-+AF8-+AF8-+AF8-+AF8-+AF8-+AF8-+ACA-+AF8-+AF8-+AF8-+AF8-+AF8-+AF8-+ACA-+AF8-+ACA-+ACA-+ACA-+ACA-+AF8-+AF8-+AF8-+AF8-+AF8-+AF8-+ACA-+AF8-+AF8-+AF8-+ACA-+ACA-+AAo-+ACA-+AHw-+ACA-+AHw-+ACA-+ACA-+ACA-+AHw-+ACA-+AHw-+ACA-+AHw-+ACA-+AHw-+ACA-+ACA-+ACA-+ACA-+ACA-+ACA-+ACA-+ACA-+ACA-+ACA-+ACA-+ACA-+AF8-+ACA-+ACA-+ACA-+ACA-/+ACA-/+ACA-/+ACA-+AHw-+ACA-+ACA-+ACA-(+AF8-)+ACA-+AHw-+ACA-+ACA-+ACA-+AHw-+ACA-+AHw-+ACA-+ACA-+ACA-+ACA-+ACA-+ACA-+ACA-+ACA-+ACA-/+ACA-/+AF8-+AF8-+ACA-+AFw-+ACA-+AFw-+ACA-+ACA-+ACA-+ACA-/+ACA-/+ACA-+ACA-+AF8-+AF8-+ACA-+AFw-+AF8-+AF8-+AF8-+AF8-+ACA-+ACA-+AHw-+ACA-+AHw-+ACA-+ACA-+AHw-+ACA-+ACA-+AF8-+AF8-+AF8-+AF8-/+ACA-+AF8-+ACA-+AFw-+ACA-+AAo-+ACA-+AHw-+ACA-+AHw-+AF8-+AF8-+ACA-+AHw-+ACA-+AHw-+AF8-+AHw-+ACA-+AHw-+AF8-+ACA-+AF8-+ACA-+AF8-+AF8-+ACA-+ACA-+AF8-+AF8-+AF8-(+AF8-)+ACA-+ACA-/+ACA-/+ACA-/+AHw-+ACA-+AHw-+AF8-+AF8-+ACA-+ACA-+AF8-+AHw-+ACA-+AHw-+AF8-+ACA-+ACA-+AHw-+ACA-+AHw-+AF8-+ACA-+ACA-+ACA-+AF8-+ACA-+ACA-+ACA-/+ACA-/+ACA-+ACA-+ACA-)+ACA-+AFw-+ACA-+AFw-+ACA-+ACA-/+ACA-/+AHw-+ACA-+AHw-+ACA-+ACA-+AHw-+ACA-+AHw-+ACA-+ACA-/+ACA-/+AHw-+ACA-+AHw-+ACA-+AF8-+AHw-+ACA-+AHw-+AF8-+AF8-+ACA-+AHw-+ACA-(+AF8-)+ACA-+AHw-+AAo-+ACA-+AHw-+ACA-'+AF8-+ACA-+AFw-+AHw-+ACA-+AF8-+AF8-+AHw-+ACA-+AF8-+AF8-+AHw-+ACA-'+AF8-+ACA-+AFw-/+ACA-+AF8-+AF8-+AHw-+ACA-+ACA-+ACA-/+ACA-/+ACA-/+ACA-+AHw-+ACA-'+AF8-+ACA-+AFw-+AHw-+ACA-+AHw-+ACA-+AF8-+AF8-+AHw-+ACA-+AHw-+ACA-+AHw-+ACA-+AHw-+ACA-+AHw-+ACA-+AHw-+ACA-/+ACA-/+ACA-+ACA-+ACA-/+ACA-/+ACA-+AFw-+ACA-+AFw-/+ACA-/+ACA-+AHw-+ACA-+AHw-+ACA-+ACA-+AHw-+ACA-+AHw-+ACA-/+ACA-/+ACA-+AHw-+ACA-+AHw-/+ACA-/+ACA-+ACA-+AF8-+AF8-+AHw-+ACA-+AD4-+ACA-+AF8-+ACA-+ADw-+ACA-+AAo-+ACA-+AHw-+ACA-+AHw-+ACA-+AHw-+ACA-+AHw-+ACA-+AHw-+AF8-+AHw-+ACA-+AHw-+AF8-+AHw-+ACA-+AHw-+AF8-)+ACA-+AFw-+AF8-+AF8-+ACA-+AFw-+AF8-+ACA-/+ACA-/+ACA-/+ACA-+ACA-+AHw-+ACA-+AHw-+AF8-)+ACA-+AHw-+ACA-+AHw-+ACA-+AHw-+AF8-+ACA-+AF8-+AHw-+ACA-+AHw-+ACA-+AHw-+AF8-+AHw-+ACA-+AHw-/+ACA-/+ACA-+ACA-+ACA-/+ACA-/+AF8-+ACA-+ACA-+AFw-+ACA-+ACA-/+ACA-+ACA-+AHw-+ACA-+AHw-+AF8-+AF8-+AHw-+ACA-+AHw-/+ACA-/+ACA-+ACA-+AHw-+ACA-+ACA-+ACA-+ADw-+AHw-+ACA-+AHw-+ACA-+ACA-+ACA-+AHw-+ACA-(+AF8-)+ACA-+AHw-+AAo-+ACA-+AHw-+AF8-+AHw-+ACA-+AHw-+AF8-+AHw-+AFw-+AF8-+AF8-+AHw-+AFw-+AF8-+AF8-+AHw-+ACA-.+AF8-+AF8-/+AHw-+AF8-+AF8-+AF8-(+AF8-)+AF8-/+AF8-/+ACA-+ACA-+ACA-+AHw-+AF8-.+AF8-+AF8-/+AHw-+AF8-+AHw-+AFw-+AF8-+AF8-(+AF8-)+AF8-+AHw-+AFw-+AF8-+AF8-,+ACA-/+AF8-/+ACA-+ACA-+ACA-+AHw-+AF8-+AF8-+AF8-+AF8-+AHw-+ACA-+ACA-+AFw-/+ACA-+ACA-+ACA-+AHw-+AF8-+AF8-+AF8-+AF8-+AF8-//+AF8-/+ACA-+ACA-+ACA-+AHw-+AF8-+AHw-+AFw-+AF8-+AFw-+AF8-+AHw-+ACA-+ACA-+ACA-+ACA-+AFw-+AF8-+AF8-+AF8-/+ACA-+AAo-+ACA-+ACA-+ACA-+ACA-+ACA-+ACA-+ACA-+ACA-+ACA-+ACA-+ACA-+ACA-+ACA-+ACA-+ACA-+AHw-+ACA-+AHw-+ACA-+ACA-+ACA-+ACA-+ACA-+ACA-+ACA-+ACA-+ACA-+ACA-+ACA-+ACA-+ACA-+ACA-+ACA-+ACA-+ACA-+ACA-+ACA-+ACA-+ACA-+ACA-+ACA-+ACA-+ACA-+ACA-+ACA-+ACA-+ACA-+ACA-+ACA-+ACA-+ACA-+ACA-+ACA-+AF8-+AF8-/+ACA-+AHw-+ACA-+ACA-+ACA-+ACA-+ACA-+ACA-+ACA-+ACA-+ACA-+ACA-+ACA-+ACA-+ACA-+ACA-+ACA-+ACA-+ACA-+ACA-+ACA-+ACA-+ACA-+ACA-+ACA-+ACA-+ACA-+ACA-+ACA-+ACA-+ACA-+ACA-+ACA-+ACA-+ACA-+ACA-+ACA-+ACA-+ACA-+ACA-+ACA-+ACA-+ACA-+ACA-+ACA-+AC\".decode('utf-8')"
   ]
  },
  {
   "cell_type": "code",
   "execution_count": null,
   "metadata": {},
   "outputs": [],
   "source": []
  },
  {
   "cell_type": "code",
   "execution_count": null,
   "metadata": {},
   "outputs": [],
   "source": []
  },
  {
   "cell_type": "code",
   "execution_count": 24,
   "metadata": {},
   "outputs": [],
   "source": [
    "import numpy as np"
   ]
  },
  {
   "cell_type": "code",
   "execution_count": 59,
   "metadata": {},
   "outputs": [
    {
     "data": {
      "text/plain": [
       "'Lorem ipsum dolor \\u200d\\u200d\\u2061\\u200c\\u2064\\u200c\\u2064\\u200d\\u2061\\u200c\\u2064\\u200d\\u200d\\u2062\\u2062\\u200c\\u2061\\u200d\\u2063\\u2062\\u200d\\u2064\\u2062\\u2061\\u200c\\u200d\\u200c\\u2064\\u2064\\u2062\\u200d\\u200c\\u200d\\u200c\\u2064\\u200d\\u200d\\u200c\\u2061\\u200d\\u2062\\u2061\\u2062\\u2062\\u200d\\u2061\\u200d\\u200c\\u2062\\u200c\\u2061\\u2062\\u200d\\u2061\\u200d\\u200d\\u2062\\u200d\\u200c\\u2061\\u200d\\u2061\\u200d\\u2062\\u2061\\u2063\\u2062\\u2061\\u2062\\u2062\\u2064\\u200d\\u2061\\u2062\\u2061\\u2062\\u200d\\u200d\\u2062\\u200c\\u2064\\u2061\\u2062\\u200d\\u2061\\u2062\\u200d\\u2063\\u200d\\u200c\\u200d\\u2062\\u2063\\u2063\\u2062\\u2061\\u2062\\u200c\\u2062\\u2062\\u2062\\u200c\\u2062\\u200csit amet consectetur adipiscing elit imperdiet leo, magnis non praesent diam sociosqu mi placerat pellentesque primis neque, congue cras pretium semper bibendum potenti natoque cum. Bibendum sed erat imperdiet habitant nostra dapibus massa parturient eros urna leo, ultrices felis curabitur potenti lobortis montes justo magnis suscipit ridiculus purus feugiat, eget lectus per mollis inceptos litora orci ante maecenas risus. Torquent suscipit sem ridiculus cubilia a id habitant consequat ad laoreet blandit sollicitudin, lacus imperdiet nascetur fringilla neque felis natoque nulla ac aliquet mus.'"
      ]
     },
     "execution_count": 59,
     "metadata": {},
     "output_type": "execute_result"
    }
   ],
   "source": [
    "'Lorem ipsum dolor ‍‍⁡‌⁤‌⁤‍⁡‌⁤‍‍⁢⁢‌⁡‍⁣⁢‍⁤⁢⁡‌‍‌⁤⁤⁢‍‌‍‌⁤‍‍‌⁡‍⁢⁡⁢⁢‍⁡‍‌⁢‌⁡⁢‍⁡‍‍⁢‍‌⁡‍⁡‍⁢⁡⁣⁢⁡⁢⁢⁤‍⁡⁢⁡⁢‍‍⁢‌⁤⁡⁢‍⁡⁢‍⁣‍‌‍⁢⁣⁣⁢⁡⁢‌⁢⁢⁢‌⁢‌sit amet consectetur adipiscing elit imperdiet leo, magnis non praesent diam sociosqu mi placerat pellentesque primis neque, congue cras pretium semper bibendum potenti natoque cum. Bibendum sed erat imperdiet habitant nostra dapibus massa parturient eros urna leo, ultrices felis curabitur potenti lobortis montes justo magnis suscipit ridiculus purus feugiat, eget lectus per mollis inceptos litora orci ante maecenas risus. Torquent suscipit sem ridiculus cubilia a id habitant consequat ad laoreet blandit sollicitudin, lacus imperdiet nascetur fringilla neque felis natoque nulla ac aliquet mus.'\n"
   ]
  },
  {
   "cell_type": "code",
   "execution_count": 104,
   "metadata": {},
   "outputs": [],
   "source": [
    "aa = r'\\u200d\\u200d\\u2061\\u200c\\u2064\\u200c\\u2064\\u200d\\u2061\\u200c\\u2064\\u200d\\u200d\\u2062\\u2062\\u200c\\u2061\\u200d\\u2063\\u2062\\u200d\\u2064\\u2062\\u2061\\u200c\\u200d\\u200c\\u2064\\u2064\\u2062\\u200d\\u200c\\u200d\\u200c\\u2064\\u200d\\u200d\\u200c\\u2061\\u200d\\u2062\\u2061\\u2062\\u2062\\u200d\\u2061\\u200d\\u200c\\u2062\\u200c\\u2061\\u2062\\u200d\\u2061\\u200d\\u200d\\u2062\\u200d\\u200c\\u2061\\u200d\\u2061\\u200d\\u2062\\u2061\\u2063\\u2062\\u2061\\u2062\\u2062\\u2064\\u200d\\u2061\\u2062\\u2061\\u2062\\u200d\\u200d\\u2062\\u200c\\u2064\\u2061\\u2062\\u200d\\u2061\\u2062\\u200d\\u2063\\u200d\\u200c\\u200d\\u2062\\u2063\\u2063\\u2062\\u2061\\u2062\\u200c\\u2062\\u2062\\u2062\\u200c\\u2062\\u200c'"
   ]
  },
  {
   "cell_type": "code",
   "execution_count": 105,
   "metadata": {},
   "outputs": [
    {
     "name": "stdout",
     "output_type": "stream",
     "text": [
      "['0d', '0d', '61', '0c', '64', '0c', '64', '0d', '61', '0c', '64', '0d', '0d', '62', '62', '0c', '61', '0d', '63', '62', '0d', '64', '62', '61', '0c', '0d', '0c', '64', '64', '62', '0d', '0c', '0d', '0c', '64', '0d', '0d', '0c', '61', '0d', '62', '61', '62', '62', '0d', '61', '0d', '0c', '62', '0c', '61', '62', '0d', '61', '0d', '0d', '62', '0d', '0c', '61', '0d', '61', '0d', '62', '61', '63', '62', '61', '62', '62', '64', '0d', '61', '62', '61', '62', '0d', '0d', '62', '0c', '64', '61', '62', '0d', '61', '62', '0d', '63', '0d', '0c', '0d', '62', '63', '63', '62', '61', '62', '0c', '62', '62', '62', '0c', '62', '0c']\n"
     ]
    }
   ],
   "source": [
    "bb = aa.split(r'\\u20')[1:]; print(bb)"
   ]
  },
  {
   "cell_type": "code",
   "execution_count": 106,
   "metadata": {},
   "outputs": [
    {
     "data": {
      "text/plain": [
       "13.0"
      ]
     },
     "execution_count": 106,
     "metadata": {},
     "output_type": "execute_result"
    }
   ],
   "source": [
    "len(bb)/8"
   ]
  },
  {
   "cell_type": "code",
   "execution_count": 95,
   "metadata": {},
   "outputs": [
    {
     "data": {
      "text/plain": [
       "(array(['0c', '0d', '61', '62', '63', '64'], dtype='<U2'),\n",
       " array([17, 28, 18, 27,  5,  9]))"
      ]
     },
     "execution_count": 95,
     "metadata": {},
     "output_type": "execute_result"
    }
   ],
   "source": [
    "np.unique(bb, return_counts=True)"
   ]
  },
  {
   "cell_type": "code",
   "execution_count": 57,
   "metadata": {},
   "outputs": [
    {
     "name": "stdout",
     "output_type": "stream",
     "text": [
      "00110100110000011010000110100001010001100100010101100100001101001101000010100001010010010100110101000101\n"
     ]
    }
   ],
   "source": [
    "dd = ''\n",
    "for char in bb:\n",
    "    if char == '0c':\n",
    "        dd += '1'\n",
    "    elif char == '0d':\n",
    "        dd += '0'\n",
    "    elif char == '61':\n",
    "        dd += '1'\n",
    "    elif char == '62':\n",
    "        dd += '0'\n",
    "    elif char == '63':\n",
    "        dd += '1'\n",
    "    elif char == '64':\n",
    "        dd += '0'\n",
    "print(dd)"
   ]
  },
  {
   "cell_type": "code",
   "execution_count": 55,
   "metadata": {},
   "outputs": [
    {
     "data": {
      "text/plain": [
       "[']', 'M', 'm', 'z', 'ô', 'Ó', 'Ù', ']', '\\x9d', 'z', 'z', '|', 'Ó']"
      ]
     },
     "execution_count": 55,
     "metadata": {},
     "output_type": "execute_result"
    }
   ],
   "source": [
    "[chr(int(dd[::-1][i:i+8],2)) for i in range(0,len(dd),8)]"
   ]
  },
  {
   "cell_type": "code",
   "execution_count": 107,
   "metadata": {},
   "outputs": [
    {
     "name": "stdout",
     "output_type": "stream",
     "text": [
      "44350504350442253412402354500245450445342322434525324344245343423123220432324425032432414542112325222525\n"
     ]
    }
   ],
   "source": [
    "cc = ''\n",
    "for char in bb:\n",
    "    if char == '0c':\n",
    "        cc += '5'\n",
    "    elif char == '0d':\n",
    "        cc += '4'\n",
    "    elif char == '61':\n",
    "        cc += '3'\n",
    "    elif char == '62':\n",
    "        cc += '2'\n",
    "    elif char == '63':\n",
    "        cc += '1'\n",
    "    elif char == '64':\n",
    "        cc += '0'\n",
    "print(cc)"
   ]
  },
  {
   "cell_type": "code",
   "execution_count": 97,
   "metadata": {},
   "outputs": [],
   "source": [
    "num = 0\n",
    "for i,c in enumerate(cc[::-1]):\n",
    "    num += int(c)*pow(6,i)"
   ]
  },
  {
   "cell_type": "code",
   "execution_count": 98,
   "metadata": {},
   "outputs": [
    {
     "name": "stdout",
     "output_type": "stream",
     "text": [
      "10110101110011110000110000000000111100101011110010011100110110101101010001101101010110011000100101111110000100010101110010000111110001001101101101011110101011000010111111011011101110011001110001110001001011011011100111111001010001111100110011000010001010010111010010101\n"
     ]
    }
   ],
   "source": [
    "print(bin(num)[2:])"
   ]
  },
  {
   "cell_type": "code",
   "execution_count": 99,
   "metadata": {},
   "outputs": [
    {
     "data": {
      "text/plain": [
       "269"
      ]
     },
     "execution_count": 99,
     "metadata": {},
     "output_type": "execute_result"
    }
   ],
   "source": [
    "len(bin(num)[2:])"
   ]
  },
  {
   "cell_type": "code",
   "execution_count": null,
   "metadata": {},
   "outputs": [],
   "source": []
  }
 ],
 "metadata": {
  "kernelspec": {
   "display_name": "Python 3",
   "language": "python",
   "name": "python3"
  },
  "language_info": {
   "codemirror_mode": {
    "name": "ipython",
    "version": 3
   },
   "file_extension": ".py",
   "mimetype": "text/x-python",
   "name": "python",
   "nbconvert_exporter": "python",
   "pygments_lexer": "ipython3",
   "version": "3.6.9"
  }
 },
 "nbformat": 4,
 "nbformat_minor": 4
}
