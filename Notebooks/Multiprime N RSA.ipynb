{
 "cells": [
  {
   "cell_type": "markdown",
   "metadata": {},
   "source": [
    "# Multiprime N RSA"
   ]
  },
  {
   "cell_type": "code",
   "execution_count": null,
   "metadata": {},
   "outputs": [],
   "source": []
  },
  {
   "cell_type": "code",
   "execution_count": 66,
   "metadata": {},
   "outputs": [
    {
     "name": "stdout",
     "output_type": "stream",
     "text": [
      "(array(['#', '%', '&', '(', '*', '+', '-', '.', '/', '2', '3', '4', '5',\n",
      "       '6', '7', '8', '9', ':', ';', '<', '>', '@', 'A', 'B', 'C', 'D',\n",
      "       'E', 'F', 'G', 'H', 'K', 'L', 'M', 'N', 'O', 'P', 'R', 'S', 'T',\n",
      "       'U', 'V', 'W', 'X', 'Y', '^', 'b', 'c', 'd', 'f', 'j', 'p', 'q',\n",
      "       't', 'z', '|'], dtype='<U1'), array([2, 2, 2, 1, 1, 7, 3, 2, 1, 3, 2, 5, 3, 5, 3, 3, 3, 1, 2, 5, 2, 4,\n",
      "       1, 3, 2, 1, 1, 2, 1, 3, 1, 3, 7, 2, 5, 1, 4, 2, 2, 5, 4, 1, 2, 2,\n",
      "       4, 5, 5, 1, 1, 3, 8, 2, 2, 3, 2]))\n",
      "55\n"
     ]
    }
   ],
   "source": [
    "txt = \"<EV>UpjM8^WGR@;pCO4+|;:M+7#6@^c5pc+P8bM+-T6zcp|%T2cRCb>UN8zR35dz<#+A4<.MY&MbB5F<B7-6+6Oj&O@S2pNXHFD%4c.Sj9Kp<Up*ObVYqL+(HLM4pU/6R@tXbqL9tH^-49V3UVM2^7fBO\"\n",
    "print(np.unique(list(txt), return_counts = True))\n",
    "print(len(np.unique(list(txt))))"
   ]
  },
  {
   "cell_type": "code",
   "execution_count": null,
   "metadata": {},
   "outputs": [],
   "source": []
  },
  {
   "cell_type": "code",
   "execution_count": 7,
   "metadata": {},
   "outputs": [],
   "source": [
    "# Imports\n",
    "import numpy as np"
   ]
  },
  {
   "cell_type": "code",
   "execution_count": 3,
   "metadata": {},
   "outputs": [],
   "source": [
    "# Data\n",
    "n = 31599415905194296507531163994468257280886159280045654346389430217405819290199334738577568528414824952061262558727052291045816515870348057534996441596560396962516719727878569643953152119895297353348080193869479088114850667155373326828408666807238584625432868509009967976378084883283066242914464294233411627\n",
    "e = 65537\n",
    "c = 11371525982887248215036029303506383319725323173791816242922348267059091038845164126422411329763551336318264887183213679689757761368186436315189029720350805092964515239812759488055450797557376437081404871060787004042110689348646779529227539692241991396962852995556540999064671425810298104591755058349120054\n"
   ]
  },
  {
   "cell_type": "code",
   "execution_count": 4,
   "metadata": {},
   "outputs": [
    {
     "name": "stdout",
     "output_type": "stream",
     "text": [
      "True\n"
     ]
    }
   ],
   "source": [
    "# Factorisation of n by factordb\n",
    "primestr = \"2152978987<10> · 2178670709<10> · 2292487361<10> · 2367104263<10> · 2563604567<10> · 2571500203<10> · 2715012803<10> · 2788319507<10> · 2823467653<10> · 2903526499<10> · 2936894063<10> · 2989253341<10> · 3035960167<10> · 3068856233<10> · 3165948211<10> · 3391790461<10> · 3592739747<10> · 3613621433<10> · 3852924077<10> · 3876487189<10> · 3890394553<10> · 3898886171<10> · 3910833851<10> · 3961066927<10> · 3989645813<10> · 4014542803<10> · 4024893437<10> · 4029819973<10> · 4068148789<10> · 4109794417<10> · 4130412409<10> · 4226418397<10>\"\n",
    "check = 1\n",
    "for p in primes:\n",
    "    check *= p\n",
    "print(check == n)\n"
   ]
  },
  {
   "cell_type": "code",
   "execution_count": 11,
   "metadata": {},
   "outputs": [],
   "source": [
    "def egcd(a, b):\n",
    "    if a == 0:\n",
    "        return (b, 0, 1)\n",
    "    else:\n",
    "        g, y, x = egcd(b % a, a)\n",
    "        return (g, x - (b // a) * y, y)\n",
    "\n",
    "def modinv(a, m):\n",
    "    g, x, y = egcd(a, m)\n",
    "    if g != 1:\n",
    "        raise Exception('modular inverse does not exist')\n",
    "    else:\n",
    "        return x % m"
   ]
  },
  {
   "cell_type": "code",
   "execution_count": 34,
   "metadata": {},
   "outputs": [],
   "source": [
    "d = []\n",
    "for i in range(len(primes)):\n",
    "    d.append(modinv(e, primes[i]-1))\n",
    "m = primes[0]\n",
    "t = [0,]\n",
    "for i in range(1, len(primes)):\n",
    "    t.append(modinv(m, primes[i]))\n",
    "    m *= primes[i]\n",
    "x = []\n",
    "for i in range(len(primes)):\n",
    "    x.append(pow(c % primes[i], d[i], primes[i]))\n",
    "u = x[0]\n",
    "m = primes[0]\n",
    "for i in range(1, len(primes)):\n",
    "    u += m * (((x[i] - u % primes[i]) * t[i]) % primes[i])\n",
    "    m *= primes[i]"
   ]
  },
  {
   "cell_type": "code",
   "execution_count": 35,
   "metadata": {},
   "outputs": [
    {
     "data": {
      "text/plain": [
       "126.5"
      ]
     },
     "execution_count": 35,
     "metadata": {},
     "output_type": "execute_result"
    }
   ],
   "source": [
    "len(bin(u)[2:])/8"
   ]
  },
  {
   "cell_type": "code",
   "execution_count": 36,
   "metadata": {},
   "outputs": [
    {
     "data": {
      "text/plain": [
       "126.5"
      ]
     },
     "execution_count": 36,
     "metadata": {},
     "output_type": "execute_result"
    }
   ],
   "source": [
    "len(bin(n)[2:])/8"
   ]
  },
  {
   "cell_type": "markdown",
   "metadata": {},
   "source": [
    "# Simple way"
   ]
  },
  {
   "cell_type": "code",
   "execution_count": 46,
   "metadata": {},
   "outputs": [],
   "source": [
    "phi = 1\n",
    "for i in range(len(primes)):\n",
    "    phi *= (primes[i]-1)\n",
    "d = modinv(e,phi)\n",
    "msg = pow(c, d, n)"
   ]
  },
  {
   "cell_type": "code",
   "execution_count": 53,
   "metadata": {},
   "outputs": [
    {
     "data": {
      "text/plain": [
       "'2cdf3684ee93b12161a4eb37a6727b69ab1369cf7ecad9d7496b4b2a07c7f8f4e13556da51095d428a90a939209f36e5aae08f3fbae031988427e300b14670de29cbed8a7e964ded53855bff627bf643532738a311a6e448a23dddd0a47496794d3453c748bc4f6ef1fa3b8aa6578a48c77e2175fdcbe617862b911a0e0d8'"
      ]
     },
     "execution_count": 53,
     "metadata": {},
     "output_type": "execute_result"
    }
   ],
   "source": [
    "hex(msg)[2:]"
   ]
  },
  {
   "cell_type": "code",
   "execution_count": null,
   "metadata": {},
   "outputs": [],
   "source": []
  },
  {
   "cell_type": "code",
   "execution_count": null,
   "metadata": {},
   "outputs": [],
   "source": []
  },
  {
   "cell_type": "code",
   "execution_count": 60,
   "metadata": {},
   "outputs": [
    {
     "data": {
      "text/plain": [
       "'2152978987 2367104263 2571500203 2936894063 2989253341 3165948211 3391790461 3961066927 3989645813 4014542803 4024893437 4130412409'"
      ]
     },
     "execution_count": 60,
     "metadata": {},
     "output_type": "execute_result"
    }
   ],
   "source": [
    "\"2152 978987 × 2367 104263 × 2571 500203 × 2936 894063 × 2989 253341 × 3165 948211 × 3391 790461 × 3961 066927 × 3989 645813 × 4014 542803 × 4024 893437 × 4130 412409 \".replace(\" \",\"\").replace(\"×\",\" \")"
   ]
  },
  {
   "cell_type": "code",
   "execution_count": 62,
   "metadata": {},
   "outputs": [
    {
     "name": "stdout",
     "output_type": "stream",
     "text": [
      "64764354467b7273345f663463746f72317a347431306e2121217d\n"
     ]
    }
   ],
   "source": [
    "n=31599415905194296507531163994468257280886159280045654346389430217405819290199334738577568528414824952061262558727052291045816515870348057534996441596560396962516719727878569643953152119895297353348080193869479088114850667155373326828408666807238584625432868509009967976378084883283066242914464294233411627\n",
    "c=11371525982887248215036029303506383319725323173791816242922348267059091038845164126422411329763551336318264887183213679689757761368186436315189029720350805092964515239812759488055450797557376437081404871060787004042110689348646779529227539692241991396962852995556540999064671425810298104591755058349120054\n",
    "e=65537\n",
    "z=1\n",
    "#some factors of n\n",
    "k = \"2563604567<10> · 2715012803<10> · 2788319507<10> · 2823467653<10> · 3613621433<10> · 3876487189<10> · 3890394553<10> · 3898886171<10> · 4029819973<10> · 4226418397<10> · \"\n",
    "k=k.split(\"<10> · \")\n",
    "k=k[:-1]\n",
    "ans=[]\n",
    "for i in range(len(k)):\n",
    "\tz*=int(k[i])\n",
    "\tans.append(int(k[i]))\n",
    "#some more factors \n",
    "last = \"2178 670709 × 2292 487361 × 2903 526499 × 3035 960167 × 3068 856233 × 3592 739747 × 3852 924077 × 3910 833851 × 4068 148789 × 4109 794417 × 2152 978987 × 2367 104263 × 2571 500203 × 2936 894063 × 2989 253341 × 3165 948211 × 3391 790461 × 3961 066927 × 3989 645813 × 4014 542803 × 4024 893437 × 4130 412409 \".replace(\" \",\"\")\n",
    "last=last.split(\"×\")\n",
    "for i in range(len(last)):\n",
    "\tz*=int(last[i])\n",
    "\tans.append(int(last[i]))\n",
    "p=ans\n",
    "d=1\n",
    "\n",
    "def egcd(a, b):\n",
    "    if (a == 0):\n",
    "        return [b, 0, 1]\n",
    "    else:\n",
    "        g, y, x = egcd(b % a, a)\n",
    "        return [g, x - (b // a) * y, y]\n",
    "def modInv(a, m):\n",
    "    g, x, y = egcd(a, m)\n",
    "    if (g != 1):\n",
    "        raise Exception(\"[-]No modular multiplicative inverse of %d under modulus %d\" % (a, m))\n",
    "    else:\n",
    "        return x % m\n",
    "\n",
    "phy=1\n",
    "for a in p:\n",
    "\tphy *= (a-1)\n",
    "d = modInv(e, phy)\n",
    "m = pow(c, d, n)\n",
    "print(hex(m)[2:])"
   ]
  },
  {
   "cell_type": "code",
   "execution_count": null,
   "metadata": {},
   "outputs": [],
   "source": []
  },
  {
   "cell_type": "code",
   "execution_count": null,
   "metadata": {},
   "outputs": [],
   "source": []
  },
  {
   "cell_type": "code",
   "execution_count": 54,
   "metadata": {},
   "outputs": [
    {
     "name": "stdout",
     "output_type": "stream",
     "text": [
      "7069636f4354467b705f265f715f6e305f725f245f7421215f333632303736327d\n"
     ]
    }
   ],
   "source": [
    "n=7735208939848985079680614633581782274371148157293352904905313315409418467322726702848189532721490121708517697848255948254656192793679424796954743649810878292688507385952920229483776389922650388739975072587660866986603080986980359219525111589659191172937047869008331982383695605801970189336227832715706317\n",
    "c=3670299277793632058702793297897750202390028862083121193154786454442747778012608037319074059849513143614838290370386310449245926313963594388615873818138122198638842317775671383243272790384729363089911073734180421303462368643415811401399803824480651005886180614400113872470469554939994288906399951020543977\n",
    "e=65537\n",
    "z=1\n",
    "#some factors of n\n",
    "k=\"2208664111<10> · 2214452749<10> · 2259012491<10> · 2265830453<10> · 2372942981<10> · 2393757139<10> · 2508863309<10> · 2543358889<10> · 2850808189<10> · 2982067987<10> · 3290718047<10> · 3600488797<10> · 3750978137<10> · 3810149963<10> · 3979951739<10> · 4033877203<10> · 4128271747<10> · 4162800959<10> · 4268160257<10> · \"\n",
    "k=k.split(\"<10> · \")\n",
    "k=k[:-1]\n",
    "ans=[]\n",
    "for i in range(len(k)):\n",
    "\tz*=int(k[i])\n",
    "\tans.append(int(k[i]))\n",
    "#some more factors \n",
    "last=\"2465499073×2589229021×2642723827×2758626487×2947867051×3130932919×3510442297×3644712913×3650456981×3726115171×3789130951×4205130337×4221911101\"\n",
    "\n",
    "last=last.split(\"×\")\n",
    "for i in range(len(last)):\n",
    "\tz*=int(last[i])\n",
    "\tans.append(int(last[i]))\n",
    "p=ans\n",
    "d=1\n",
    "\n",
    "def egcd(a, b):\n",
    "    if (a == 0):\n",
    "        return [b, 0, 1]\n",
    "    else:\n",
    "        g, y, x = egcd(b % a, a)\n",
    "        return [g, x - (b // a) * y, y]\n",
    "def modInv(a, m):\n",
    "    g, x, y = egcd(a, m)\n",
    "    if (g != 1):\n",
    "        raise Exception(\"[-]No modular multiplicative inverse of %d under modulus %d\" % (a, m))\n",
    "    else:\n",
    "        return x % m\n",
    "\n",
    "phy=1\n",
    "for a in p:\n",
    "\tphy *= (a-1)\n",
    "d = modInv(e, phy)\n",
    "m = pow(c, d, n)\n",
    "print(hex(m)[2:])"
   ]
  },
  {
   "cell_type": "code",
   "execution_count": null,
   "metadata": {},
   "outputs": [],
   "source": []
  },
  {
   "cell_type": "markdown",
   "metadata": {},
   "source": [
    "--------------\n",
    "END OF NOTEBOOK"
   ]
  }
 ],
 "metadata": {
  "kernelspec": {
   "display_name": "Python 3",
   "language": "python",
   "name": "python3"
  },
  "language_info": {
   "codemirror_mode": {
    "name": "ipython",
    "version": 3
   },
   "file_extension": ".py",
   "mimetype": "text/x-python",
   "name": "python",
   "nbconvert_exporter": "python",
   "pygments_lexer": "ipython3",
   "version": "3.6.9"
  }
 },
 "nbformat": 4,
 "nbformat_minor": 4
}
